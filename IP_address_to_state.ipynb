{
 "cells": [
  {
   "cell_type": "code",
   "execution_count": 2,
   "metadata": {},
   "outputs": [],
   "source": [
    "import requests\n",
    "import pandas as pd\n",
    "import numpy as np\n",
    "import datetime"
   ]
  },
  {
   "cell_type": "code",
   "execution_count": 8,
   "metadata": {},
   "outputs": [],
   "source": [
    "def get_state(ip):\n",
    "    try:\n",
    "        url = 'https://tools.keycdn.com/geo.json?host='+ip\n",
    "        headers = {'content-type': 'application/json', 'Accept-Charset': 'UTF-8'}\n",
    "        r = requests.post(url, headers=headers)\n",
    "        result = r.json()\n",
    "#         state = r.json()['data']['geo']['region_code']\n",
    "#     country = r.json()['data']['geo']['country_code']\n",
    "        return result\n",
    "    except: \n",
    "        return 'NA'"
   ]
  },
  {
   "cell_type": "code",
   "execution_count": 9,
   "metadata": {},
   "outputs": [
    {
     "data": {
      "text/plain": [
       "{'status': 'success',\n",
       " 'description': 'Data successfully received.',\n",
       " 'data': {'geo': {'host': '174.21.01.01',\n",
       "   'ip': '174.21.1.1',\n",
       "   'rdns': '174-21-1-1.tukw.qwest.net',\n",
       "   'asn': 209,\n",
       "   'isp': 'CenturyLink Communications, LLC',\n",
       "   'country_name': 'United States',\n",
       "   'country_code': 'US',\n",
       "   'region_name': 'Washington',\n",
       "   'region_code': 'WA',\n",
       "   'city': 'Port Orchard',\n",
       "   'postal_code': '98366',\n",
       "   'continent_name': 'North America',\n",
       "   'continent_code': 'NA',\n",
       "   'latitude': 47.5329,\n",
       "   'longitude': -122.5801,\n",
       "   'metro_code': 819,\n",
       "   'timezone': 'America/Los_Angeles',\n",
       "   'datetime': '2019-05-30 11:59:38'}}}"
      ]
     },
     "execution_count": 9,
     "metadata": {},
     "output_type": "execute_result"
    }
   ],
   "source": [
    "get_state('174.21.01.01')"
   ]
  },
  {
   "cell_type": "code",
   "execution_count": null,
   "metadata": {},
   "outputs": [],
   "source": []
  }
 ],
 "metadata": {
  "kernelspec": {
   "display_name": "Python 3",
   "language": "python",
   "name": "python3"
  },
  "language_info": {
   "codemirror_mode": {
    "name": "ipython",
    "version": 3
   },
   "file_extension": ".py",
   "mimetype": "text/x-python",
   "name": "python",
   "nbconvert_exporter": "python",
   "pygments_lexer": "ipython3",
   "version": "3.7.1"
  }
 },
 "nbformat": 4,
 "nbformat_minor": 2
}
